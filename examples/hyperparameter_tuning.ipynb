{
 "cells": [
  {
   "cell_type": "markdown",
   "id": "f14d79e3",
   "metadata": {},
   "source": [
    "# Hyper-parameter tuning\n"
   ]
  },
  {
   "cell_type": "code",
   "execution_count": null,
   "id": "109d65e3",
   "metadata": {},
   "outputs": [],
   "source": [
    "import os\n",
    "import sys"
   ]
  },
  {
   "cell_type": "code",
   "execution_count": null,
   "id": "f2668e28",
   "metadata": {},
   "outputs": [],
   "source": [
    "REPO_ROOT = \"/Users/ingridperez/Documents/GitHub Repositories/xdl-portfolio\"\n",
    "sys.path.append(REPO_ROOT)"
   ]
  },
  {
   "cell_type": "code",
   "execution_count": null,
   "id": "a3298200",
   "metadata": {},
   "outputs": [],
   "source": [
    "from config import config\n",
    "from optimisation.wandb_opt import WandbOptimisation\n",
    "from pbenchmark.portfolio_benchmark import PortfolioBenchmark\n",
    "from preprocessor.findata_preprocessor import FinancialDataPreprocessor\n",
    "from visualiser.findata_visualiser import FinancialDataVisualiser\n",
    "from visualiser.model_visualiser import ModelVisualiser"
   ]
  },
  {
   "cell_type": "code",
   "execution_count": null,
   "id": "ec89d451",
   "metadata": {},
   "outputs": [],
   "source": [
    "USE_CASE = \"portfolio-optimisation\""
   ]
  },
  {
   "cell_type": "code",
   "execution_count": null,
   "id": "5279368d",
   "metadata": {},
   "outputs": [],
   "source": [
    "data_dir = f\"{REPO_ROOT}/{config.DATA_DIR}/{config.DATASET_NAME}\"\n",
    "plot_dir = (\n",
    "    f\"{REPO_ROOT}/{config.PLOT_DIR}/{config.TICKERS_NAME}/{config.DATASET_NAME}\"\n",
    ")\n",
    "models_dir = f\"{REPO_ROOT}/{config.MODELS_DIR}/{USE_CASE}/{config.TICKERS_NAME}/{config.DATASET_NAME}\"\n",
    "results_dir = (\n",
    "    f\"{REPO_ROOT}/{config.RESULTS_DIR}/{USE_CASE}/{config.DATASET_NAME}\"\n",
    ")\n",
    "logs_dir = f\"{REPO_ROOT}/{config.LOGS_DIR}/{USE_CASE}/{config.TICKERS_NAME}/{config.DATASET_NAME}\"\n",
    "\n",
    "if not os.path.exists(plot_dir):\n",
    "    os.makedirs(plot_dir)\n",
    "\n",
    "if not os.path.exists(results_dir):\n",
    "    os.makedirs(results_dir)"
   ]
  },
  {
   "cell_type": "code",
   "execution_count": null,
   "id": "94159f19",
   "metadata": {},
   "outputs": [],
   "source": [
    "finpreprocessor = FinancialDataPreprocessor(\n",
    "    start_date=config.START_DATE,\n",
    "    end_date=config.END_DATE,\n",
    ")\n",
    "train_val_data, trade_data = finpreprocessor.load_train_test_data(\n",
    "    directory=data_dir,\n",
    "    filename=config.TICKERS_NAME,\n",
    ")"
   ]
  },
  {
   "cell_type": "code",
   "execution_count": null,
   "id": "37d8ab17",
   "metadata": {},
   "outputs": [],
   "source": [
    "# Split the training data into training and validation sets\n",
    "train_data, val_data = finpreprocessor.split_train_test(\n",
    "    data=train_val_data,\n",
    "    test_start_date=config.VAL_START_DATE,\n",
    ")"
   ]
  },
  {
   "cell_type": "code",
   "execution_count": null,
   "id": "24f8eb98",
   "metadata": {},
   "outputs": [],
   "source": [
    "visualiser = FinancialDataVisualiser(directory=plot_dir)\n",
    "visualiser.plot_train_val_test_close_prices(\n",
    "    train_data=train_data,\n",
    "    val_data=val_data,\n",
    "    test_data=trade_data,\n",
    ")"
   ]
  },
  {
   "cell_type": "code",
   "execution_count": null,
   "id": "88404048",
   "metadata": {},
   "outputs": [],
   "source": [
    "wandb_opt = WandbOptimisation(\n",
    "    entity=config.WANDB_ENTITY,\n",
    "    project=config.WANDB_PROJECT,\n",
    "    train_data=train_data,\n",
    "    val_data=val_data,\n",
    "    test_data=trade_data,\n",
    "    state_columns=config.ENVIRONMENT_COLUMNS,\n",
    ")"
   ]
  },
  {
   "cell_type": "code",
   "execution_count": null,
   "id": "1f6e0e33",
   "metadata": {},
   "outputs": [],
   "source": [
    "model_visualiser = ModelVisualiser(directory=plot_dir)\n",
    "benchmark = PortfolioBenchmark()"
   ]
  },
  {
   "cell_type": "code",
   "execution_count": null,
   "id": "e1bc85e6",
   "metadata": {},
   "outputs": [],
   "source": [
    "sweep_ids = {}\n",
    "best_runs = {}\n",
    "perf_stats = {}"
   ]
  },
  {
   "cell_type": "code",
   "execution_count": null,
   "id": "7cadab20",
   "metadata": {},
   "outputs": [],
   "source": [
    "def perform_model_sweep(model_name: str):\n",
    "\n",
    "    # Start sweep\n",
    "    sweep_id = wandb_opt.sweep(\n",
    "        sweep_config=config.SWEEP_CONFIG,\n",
    "        model_name=model_name,\n",
    "    )\n",
    "    sweep_ids[model_name] = sweep_id\n",
    "\n",
    "    # Retrieve best run\n",
    "    run_id, configuration = wandb_opt.get_best_sweep_run(\n",
    "        sweep_id=sweep_id, model_name=model_name\n",
    "    )\n",
    "\n",
    "    best_runs[model_name] = (run_id, configuration)\n",
    "\n",
    "    # Test the best hyperparameters on the test_set\n",
    "    df_account, df_actions = wandb_opt.test_best_run(\n",
    "        model_name=model_name,\n",
    "        configuration=configuration,\n",
    "        train_val_data=train_val_data,\n",
    "        logs_directory=logs_dir,\n",
    "        models_directory=models_dir,\n",
    "    )\n",
    "\n",
    "    model_visualiser.evaluate_testing(\n",
    "        model_name=model_name,\n",
    "        account_data=df_account,\n",
    "        actions_data=df_actions,\n",
    "    )\n",
    "\n",
    "    # Compute performance statistics\n",
    "    perf_stats_alg = benchmark.compute_perf_stats(df_account=df_account)\n",
    "    perf_stats[model_name] = perf_stats_alg"
   ]
  },
  {
   "cell_type": "markdown",
   "id": "fddff2d3",
   "metadata": {},
   "source": [
    "## A2C\n"
   ]
  },
  {
   "cell_type": "code",
   "execution_count": null,
   "id": "09e799da",
   "metadata": {},
   "outputs": [],
   "source": [
    "model_name = \"a2c\"\n",
    "perform_model_sweep(model_name)"
   ]
  },
  {
   "cell_type": "markdown",
   "id": "a96b2858",
   "metadata": {},
   "source": [
    "## PPO\n"
   ]
  },
  {
   "cell_type": "code",
   "execution_count": null,
   "id": "3adcb4d4",
   "metadata": {},
   "outputs": [],
   "source": [
    "model_name = \"ppo\"\n",
    "perform_model_sweep(model_name)"
   ]
  },
  {
   "cell_type": "markdown",
   "id": "9d7483da",
   "metadata": {},
   "source": [
    "## DDPG\n"
   ]
  },
  {
   "cell_type": "code",
   "execution_count": null,
   "id": "7f43f5e1",
   "metadata": {},
   "outputs": [],
   "source": [
    "model_name = \"ddpg\"\n",
    "perform_model_sweep(model_name)"
   ]
  },
  {
   "cell_type": "markdown",
   "id": "18168005",
   "metadata": {},
   "source": [
    "## TD3\n"
   ]
  },
  {
   "cell_type": "code",
   "execution_count": null,
   "id": "a82fae4a",
   "metadata": {},
   "outputs": [],
   "source": [
    "model_name = \"td3\"\n",
    "perform_model_sweep(model_name)"
   ]
  },
  {
   "cell_type": "markdown",
   "id": "b5d3e4d5",
   "metadata": {},
   "source": [
    "## SAC\n"
   ]
  },
  {
   "cell_type": "code",
   "execution_count": null,
   "id": "83438b92",
   "metadata": {},
   "outputs": [],
   "source": [
    "model_name = \"sac\"\n",
    "perform_model_sweep(model_name)"
   ]
  },
  {
   "cell_type": "code",
   "execution_count": null,
   "id": "17c0b70b",
   "metadata": {},
   "outputs": [],
   "source": []
  }
 ],
 "metadata": {
  "kernelspec": {
   "display_name": ".venv",
   "language": "python",
   "name": "python3"
  },
  "language_info": {
   "codemirror_mode": {
    "name": "ipython",
    "version": 3
   },
   "file_extension": ".py",
   "mimetype": "text/x-python",
   "name": "python",
   "nbconvert_exporter": "python",
   "pygments_lexer": "ipython3",
   "version": "3.12.11"
  }
 },
 "nbformat": 4,
 "nbformat_minor": 5
}
