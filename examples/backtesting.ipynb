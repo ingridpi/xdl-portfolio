{
 "cells": [
  {
   "cell_type": "markdown",
   "id": "6ce0271c",
   "metadata": {},
   "source": [
    "# Backtesting and benchmarking of the trading strategies\n"
   ]
  },
  {
   "cell_type": "code",
   "execution_count": null,
   "id": "195e5a17",
   "metadata": {},
   "outputs": [],
   "source": [
    "import os\n",
    "import sys"
   ]
  },
  {
   "cell_type": "code",
   "execution_count": null,
   "id": "72eaddd5",
   "metadata": {},
   "outputs": [],
   "source": [
    "REPO_ROOT = \"/Users/ingridperez/Documents/GitHub Repositories/xdl-portfolio\"\n",
    "sys.path.append(REPO_ROOT)"
   ]
  },
  {
   "cell_type": "code",
   "execution_count": null,
   "id": "0d158121",
   "metadata": {},
   "outputs": [],
   "source": [
    "import pandas as pd\n",
    "\n",
    "from agents.drl_agent import DRLAgent\n",
    "from config import config, config_models\n",
    "from environments.env_portfolio_optimisation import (\n",
    "    PortfolioOptimisationEnvWrapper,\n",
    ")\n",
    "from environments.env_stock_trading import StockTradingEnvWrapper\n",
    "from pbenchmark.portfolio_benchmark import PortfolioBenchmark\n",
    "from preprocessor.findata_preprocessor import FinancialDataPreprocessor\n",
    "from visualiser.benchmark_visualiser import BenchmarkVisualiser"
   ]
  },
  {
   "cell_type": "code",
   "execution_count": null,
   "id": "df5e76d0",
   "metadata": {},
   "outputs": [],
   "source": [
    "USE_CASE = \"portfolio-optimisation\""
   ]
  },
  {
   "cell_type": "code",
   "execution_count": null,
   "id": "b7aec33f",
   "metadata": {},
   "outputs": [],
   "source": [
    "data_dir = f\"{REPO_ROOT}/{config.DATA_DIR}/{config.DATASET_NAME}\"\n",
    "plot_dir = f\"{REPO_ROOT}/{config.PLOT_DIR}/{config.TICKERS_NAME}/{config.DATASET_NAME}/{USE_CASE}\"\n",
    "models_dir = f\"{REPO_ROOT}/{config.MODELS_DIR}/{USE_CASE}/{config.TICKERS_NAME}/{config.DATASET_NAME}\"\n",
    "results_dir = (\n",
    "    f\"{REPO_ROOT}/{config.RESULTS_DIR}/{USE_CASE}/{config.DATASET_NAME}\"\n",
    ")\n",
    "\n",
    "if not os.path.exists(plot_dir):\n",
    "    os.makedirs(plot_dir)\n",
    "\n",
    "if not os.path.exists(results_dir):\n",
    "    os.makedirs(results_dir)"
   ]
  },
  {
   "cell_type": "code",
   "execution_count": null,
   "id": "17a12faa",
   "metadata": {},
   "outputs": [],
   "source": [
    "finpreprocessor = FinancialDataPreprocessor(\n",
    "    start_date=config.START_DATE,\n",
    "    end_date=config.END_DATE,\n",
    ")\n",
    "train_data, trade_data = finpreprocessor.load_train_test_data(\n",
    "    directory=data_dir,\n",
    "    filename=config.TICKERS_NAME,\n",
    ")"
   ]
  },
  {
   "cell_type": "code",
   "execution_count": null,
   "id": "3f35259b",
   "metadata": {},
   "outputs": [],
   "source": [
    "if USE_CASE == \"stock-trading\":\n",
    "    environment = StockTradingEnvWrapper(\n",
    "        train_data=train_data,\n",
    "        trade_data=trade_data,\n",
    "        state_columns=config.ENVIRONMENT_COLUMNS,\n",
    "    )\n",
    "elif USE_CASE == \"portfolio-optimisation\":\n",
    "    environment = PortfolioOptimisationEnvWrapper(\n",
    "        train_data=train_data,\n",
    "        trade_data=trade_data,\n",
    "        state_columns=config.ENVIRONMENT_COLUMNS,\n",
    "    )"
   ]
  },
  {
   "cell_type": "markdown",
   "id": "9f156f56",
   "metadata": {},
   "source": [
    "## Backtest the algorithms\n"
   ]
  },
  {
   "cell_type": "code",
   "execution_count": null,
   "id": "9cf83682",
   "metadata": {},
   "outputs": [],
   "source": [
    "benchmark = PortfolioBenchmark()"
   ]
  },
  {
   "cell_type": "code",
   "execution_count": null,
   "id": "d164ffd4",
   "metadata": {},
   "outputs": [],
   "source": [
    "df_account = pd.DataFrame()\n",
    "perf_stats = dict()\n",
    "\n",
    "for model_name in config_models.MODELS.keys():\n",
    "\n",
    "    env_train = environment.get_train_env()\n",
    "    gym_env, _ = environment.get_trade_env()\n",
    "\n",
    "    agent = DRLAgent()\n",
    "\n",
    "    print(f\"Loading model: {model_name.upper()}\")\n",
    "    trained_model = agent.load_model(\n",
    "        model_name=model_name,\n",
    "        directory=models_dir,\n",
    "    )\n",
    "\n",
    "    print(f\"Evaluating model: {model_name.upper()}\")\n",
    "    df_account_alg, _ = agent.predict(\n",
    "        model=trained_model,\n",
    "        environment=gym_env,\n",
    "    )\n",
    "\n",
    "    df_account_alg[\"model\"] = model_name.upper()\n",
    "\n",
    "    df_account = pd.concat([df_account, df_account_alg], ignore_index=True)\n",
    "\n",
    "    perf_stats_alg = benchmark.compute_perf_stats(df_account=df_account_alg)\n",
    "\n",
    "    perf_stats[model_name.upper()] = perf_stats_alg"
   ]
  },
  {
   "cell_type": "code",
   "execution_count": null,
   "id": "bb899678",
   "metadata": {},
   "outputs": [],
   "source": [
    "benchmark.set_data(\n",
    "    train_data=train_data,\n",
    "    trade_data=trade_data,\n",
    ")"
   ]
  },
  {
   "cell_type": "code",
   "execution_count": null,
   "id": "35e9ee84",
   "metadata": {},
   "outputs": [],
   "source": [
    "for strategy in [\"mean\", \"min\", \"momentum\", \"equal\"]:\n",
    "    print(f\"Optimising portfolio with strategy: {strategy}\")\n",
    "    try:\n",
    "        df_account_strat = benchmark.optimise_portfolio(\n",
    "            strategy=strategy,  # type: ignore\n",
    "        )\n",
    "\n",
    "        # Add cumulative returns to the account dataframe\n",
    "        df_account_strat[\"cumulative_return\"] = (\n",
    "            1 + df_account_strat[\"daily_return\"]\n",
    "        ).cumprod() - 1\n",
    "\n",
    "        df_account_strat[\"model\"] = strategy.capitalize()\n",
    "        df_account = pd.concat([df_account, df_account_strat], ignore_index=True)  # type: ignore\n",
    "\n",
    "        perf_stats_alg = benchmark.compute_perf_stats(\n",
    "            df_account=df_account_strat\n",
    "        )\n",
    "        perf_stats[strategy.capitalize()] = perf_stats_alg\n",
    "    except Exception as e:\n",
    "        print(\n",
    "            f\"Error occurred while optimising portfolio with strategy {strategy}: {e}\"\n",
    "        )"
   ]
  },
  {
   "cell_type": "code",
   "execution_count": null,
   "id": "a4fb3ca8",
   "metadata": {},
   "outputs": [],
   "source": [
    "if config.INDEX is not None:\n",
    "    df_account_strat = benchmark.get_index_performance(\n",
    "        config.TEST_START_DATE, config.TEST_END_DATE, config.INDEX\n",
    "    )\n",
    "\n",
    "    df_account = pd.concat([df_account, df_account_strat], ignore_index=True)  # type: ignore\n",
    "\n",
    "    perf_stats_alg = benchmark.compute_perf_stats(df_account=df_account_strat)\n",
    "    perf_stats[\"Index\"] = perf_stats_alg"
   ]
  },
  {
   "cell_type": "code",
   "execution_count": null,
   "id": "bbc68b90",
   "metadata": {},
   "outputs": [],
   "source": [
    "perf_stats = pd.DataFrame(perf_stats)\n",
    "perf_stats.to_csv(\n",
    "    f\"{results_dir}/{config.TICKERS_NAME}_performance_stats.csv\",\n",
    "    index=True,\n",
    ")"
   ]
  },
  {
   "cell_type": "code",
   "execution_count": null,
   "id": "e0cebb59",
   "metadata": {},
   "outputs": [],
   "source": [
    "perf_stats"
   ]
  },
  {
   "cell_type": "markdown",
   "id": "7fb6f1a7",
   "metadata": {},
   "source": [
    "## Visually compare portfolio value and cumulative returns\n"
   ]
  },
  {
   "cell_type": "code",
   "execution_count": null,
   "id": "6f2e173e",
   "metadata": {},
   "outputs": [],
   "source": [
    "benchmark_visualiser = BenchmarkVisualiser(directory=plot_dir)"
   ]
  },
  {
   "cell_type": "code",
   "execution_count": null,
   "id": "0da89d8a",
   "metadata": {},
   "outputs": [],
   "source": [
    "benchmark_visualiser.compare_account_value(data=df_account)"
   ]
  },
  {
   "cell_type": "code",
   "execution_count": null,
   "id": "5dbf5b05",
   "metadata": {},
   "outputs": [],
   "source": [
    "benchmark_visualiser.compare_cum_returns(data=df_account)"
   ]
  },
  {
   "cell_type": "code",
   "execution_count": null,
   "id": "711c16bb",
   "metadata": {},
   "outputs": [],
   "source": []
  }
 ],
 "metadata": {
  "kernelspec": {
   "display_name": ".venv",
   "language": "python",
   "name": "python3"
  },
  "language_info": {
   "codemirror_mode": {
    "name": "ipython",
    "version": 3
   },
   "file_extension": ".py",
   "mimetype": "text/x-python",
   "name": "python",
   "nbconvert_exporter": "python",
   "pygments_lexer": "ipython3",
   "version": "3.12.11"
  }
 },
 "nbformat": 4,
 "nbformat_minor": 5
}
