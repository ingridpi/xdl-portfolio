{
 "cells": [
  {
   "cell_type": "markdown",
   "id": "4fa0d41c",
   "metadata": {},
   "source": [
    "# Portfolio Optimisation Example\n",
    "\n",
    "Environment representation:\n",
    "\n",
    "- Open, High, Low, Close prices\n",
    "- Technical indicators if enabled\n",
    "- Macroeconomic indicators if enabled\n",
    "\n",
    "Action space: Each stock represents a percentage of the portfolio holdings, sums to 1.\n",
    "\n",
    "Reward function: Daily return.\n"
   ]
  },
  {
   "cell_type": "code",
   "execution_count": null,
   "id": "92658fe0",
   "metadata": {},
   "outputs": [],
   "source": [
    "import os\n",
    "import sys"
   ]
  },
  {
   "cell_type": "code",
   "execution_count": null,
   "id": "a4665c99",
   "metadata": {},
   "outputs": [],
   "source": [
    "REPO_ROOT = \"/Users/ingridperez/Documents/GitHub Repositiories/xdl-portfolio\"\n",
    "sys.path.append(REPO_ROOT)"
   ]
  },
  {
   "cell_type": "code",
   "execution_count": null,
   "id": "ae10c319",
   "metadata": {},
   "outputs": [],
   "source": [
    "from agents.drl_agent import DRLAgent\n",
    "from config import config, config_models\n",
    "from environments.env_portfolio_optimisation import (\n",
    "    PortfolioOptimisationEnvWrapper,\n",
    ")\n",
    "from preprocessor.findata_preprocessor import FinancialDataPreprocessor\n",
    "from visualiser.model_visualiser import ModelVisualiser"
   ]
  },
  {
   "cell_type": "code",
   "execution_count": null,
   "id": "91cec28f",
   "metadata": {},
   "outputs": [],
   "source": [
    "USE_CASE = \"portfolio-optimisation\""
   ]
  },
  {
   "cell_type": "code",
   "execution_count": null,
   "id": "3b58ec5b",
   "metadata": {},
   "outputs": [],
   "source": [
    "data_dir = f\"{REPO_ROOT}/{config.DATA_DIR}/{config.DATASET_NAME}\"\n",
    "plot_dir = f\"{REPO_ROOT}/{config.PLOT_DIR}/{config.TICKERS_NAME}/{config.DATASET_NAME}/{USE_CASE}\"\n",
    "models_dir = f\"{REPO_ROOT}/{config.MODELS_DIR}/{USE_CASE}/{config.TICKERS_NAME}/{config.DATASET_NAME}\"\n",
    "logs_dir = f\"{REPO_ROOT}/{config.LOGS_DIR}/{USE_CASE}/{config.TICKERS_NAME}/{config.DATASET_NAME}\"\n",
    "\n",
    "if not os.path.exists(plot_dir):\n",
    "    os.makedirs(plot_dir)\n",
    "\n",
    "if not os.path.exists(models_dir):\n",
    "    os.makedirs(models_dir)\n",
    "\n",
    "if not os.path.exists(logs_dir):\n",
    "    os.makedirs(logs_dir)"
   ]
  },
  {
   "cell_type": "code",
   "execution_count": null,
   "id": "d5d66378",
   "metadata": {},
   "outputs": [],
   "source": [
    "# If train is False, load the model from the models directory\n",
    "TRAIN = True"
   ]
  },
  {
   "cell_type": "code",
   "execution_count": null,
   "id": "be7a7dcc",
   "metadata": {},
   "outputs": [],
   "source": [
    "finpreprocessor = FinancialDataPreprocessor(\n",
    "    start_date=config.START_DATE,\n",
    "    end_date=config.END_DATE,\n",
    ")\n",
    "train_data, trade_data = finpreprocessor.load_train_test_data(\n",
    "    directory=data_dir,\n",
    "    filename=config.TICKERS_NAME,\n",
    ")"
   ]
  },
  {
   "cell_type": "code",
   "execution_count": null,
   "id": "cfe8363d",
   "metadata": {},
   "outputs": [],
   "source": [
    "environment = PortfolioOptimisationEnvWrapper(\n",
    "    train_data=train_data,\n",
    "    trade_data=trade_data,\n",
    "    state_columns=config.ENVIRONMENT_COLUMNS,\n",
    ")"
   ]
  },
  {
   "cell_type": "code",
   "execution_count": null,
   "id": "6389f2e5",
   "metadata": {},
   "outputs": [],
   "source": [
    "model_visualiser = ModelVisualiser(directory=plot_dir)"
   ]
  },
  {
   "cell_type": "code",
   "execution_count": null,
   "id": "d2a0ecbb",
   "metadata": {},
   "outputs": [],
   "source": [
    "for model_name in config_models.MODELS.keys():\n",
    "\n",
    "    env_train = environment.get_train_env()\n",
    "    gym_env, _ = environment.get_trade_env()\n",
    "\n",
    "    agent = DRLAgent()\n",
    "\n",
    "    model = agent.get_model(\n",
    "        model_name=model_name,\n",
    "        environment=env_train,\n",
    "        directory=logs_dir,\n",
    "        use_case=USE_CASE,\n",
    "    )\n",
    "\n",
    "    if TRAIN:\n",
    "        print(f\"Training model: {model_name.upper()}\")\n",
    "        trained_model = agent.train(\n",
    "            model=model,\n",
    "            tb_log_name=model_name,\n",
    "        )\n",
    "        print(f\"Saving model: {model_name.upper()}\")\n",
    "        agent.save_model(\n",
    "            model=model,\n",
    "            model_name=model_name,\n",
    "            directory=models_dir,\n",
    "        )\n",
    "\n",
    "        visualisation_config = config_models.train_visualisation_config[\n",
    "            model_name\n",
    "        ]\n",
    "\n",
    "        model_visualiser.evaluate_training(\n",
    "            model_name=model_name,\n",
    "            x=visualisation_config[\"x\"],\n",
    "            y=visualisation_config[\"y\"],\n",
    "            title=visualisation_config[\"title\"],\n",
    "            logs_dir=logs_dir,\n",
    "        )\n",
    "\n",
    "    else:\n",
    "        print(f\"Loading model: {model_name.upper()}\")\n",
    "        trained_model = agent.load_model(\n",
    "            model_name=model_name,\n",
    "            directory=models_dir,\n",
    "        )\n",
    "\n",
    "    print(f\"Evaluating model: {model_name.upper()}\")\n",
    "    df_account, df_actions = agent.predict(\n",
    "        model=trained_model,\n",
    "        environment=gym_env,\n",
    "    )\n",
    "\n",
    "    model_visualiser.evaluate_testing(\n",
    "        model_name=model_name,\n",
    "        account_data=df_account,\n",
    "        actions_data=df_actions,\n",
    "    )"
   ]
  },
  {
   "cell_type": "code",
   "execution_count": null,
   "id": "89664d0a",
   "metadata": {},
   "outputs": [],
   "source": []
  }
 ],
 "metadata": {
  "kernelspec": {
   "display_name": ".venv",
   "language": "python",
   "name": "python3"
  },
  "language_info": {
   "codemirror_mode": {
    "name": "ipython",
    "version": 3
   },
   "file_extension": ".py",
   "mimetype": "text/x-python",
   "name": "python",
   "nbconvert_exporter": "python",
   "pygments_lexer": "ipython3",
   "version": "3.12.11"
  }
 },
 "nbformat": 4,
 "nbformat_minor": 5
}
