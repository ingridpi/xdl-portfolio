{
 "cells": [
  {
   "cell_type": "code",
   "execution_count": 1,
   "id": "8c1d5126",
   "metadata": {},
   "outputs": [],
   "source": [
    "import sys\n",
    "\n",
    "sys.path.append(\"..\")"
   ]
  },
  {
   "cell_type": "code",
   "execution_count": 2,
   "id": "ae10c319",
   "metadata": {},
   "outputs": [],
   "source": [
    "from config import config\n",
    "from config import config_indicators\n",
    "\n",
    "from preprocessor.findata_preprocessor import FinancialDataPreprocessor\n",
    "from visualiser.findata_visualiser import FinancialDataVisualiser\n",
    "from environments.env_finrl import FinRLTradingEnv"
   ]
  },
  {
   "cell_type": "code",
   "execution_count": 3,
   "id": "be7a7dcc",
   "metadata": {},
   "outputs": [],
   "source": [
    "finpreprocessor = FinancialDataPreprocessor(config.START_DATE, config.END_DATE)\n",
    "train_data, trade_data = finpreprocessor.load_train_test_data(\n",
    "    \"../\" + config.DATA_DIR, config.TEST_NAME\n",
    ")"
   ]
  },
  {
   "cell_type": "code",
   "execution_count": 4,
   "id": "b9799975",
   "metadata": {},
   "outputs": [
    {
     "name": "stderr",
     "output_type": "stream",
     "text": [
      "/Users/ingridperez/Documents/GitHub Repositiories/xdl-portfolio/examples/../visualiser/findata_visualiser.py:171: UserWarning: FigureCanvasAgg is non-interactive, and thus cannot be shown\n",
      "  plt.show()\n"
     ]
    }
   ],
   "source": [
    "finvisualiser = FinancialDataVisualiser()\n",
    "finvisualiser.plot_train_test_close_prices(\n",
    "    train_data, trade_data, \"../\" + config.PLOT_DIR, config.TEST_NAME\n",
    ")"
   ]
  },
  {
   "cell_type": "code",
   "execution_count": 5,
   "id": "cad0aca2",
   "metadata": {},
   "outputs": [
    {
     "name": "stdout",
     "output_type": "stream",
     "text": [
      "Environment sucessfully created with \n",
      "\tStock dimension: 5 \n",
      "\tState space: 91\n"
     ]
    }
   ],
   "source": [
    "environment = FinRLTradingEnv(\n",
    "    train_data, trade_data, list(config_indicators.TECHNICAL_INDICATORS.keys())\n",
    ")"
   ]
  },
  {
   "cell_type": "code",
   "execution_count": 6,
   "id": "ffbc8c07",
   "metadata": {},
   "outputs": [],
   "source": [
    "env_train = environment.get_train_env()"
   ]
  },
  {
   "cell_type": "code",
   "execution_count": 7,
   "id": "3c5af99d",
   "metadata": {},
   "outputs": [],
   "source": [
    "gym_env, (env_trade, obs_trade) = environment.get_trade_env()"
   ]
  },
  {
   "cell_type": "code",
   "execution_count": null,
   "id": "d14aac66",
   "metadata": {},
   "outputs": [],
   "source": []
  }
 ],
 "metadata": {
  "kernelspec": {
   "display_name": ".venv",
   "language": "python",
   "name": "python3"
  },
  "language_info": {
   "codemirror_mode": {
    "name": "ipython",
    "version": 3
   },
   "file_extension": ".py",
   "mimetype": "text/x-python",
   "name": "python",
   "nbconvert_exporter": "python",
   "pygments_lexer": "ipython3",
   "version": "3.13.3"
  }
 },
 "nbformat": 4,
 "nbformat_minor": 5
}
