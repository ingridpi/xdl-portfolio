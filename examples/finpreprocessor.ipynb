{
 "cells": [
  {
   "cell_type": "markdown",
   "id": "a8b1eb41",
   "metadata": {},
   "source": [
    "## Financial Data Preprocessing\n"
   ]
  },
  {
   "cell_type": "code",
   "execution_count": null,
   "id": "13d67a2e",
   "metadata": {},
   "outputs": [],
   "source": [
    "import os\n",
    "import sys"
   ]
  },
  {
   "cell_type": "code",
   "execution_count": null,
   "id": "432375a5",
   "metadata": {},
   "outputs": [],
   "source": [
    "REPO_ROOT = \"/Users/ingridperez/Documents/GitHub Repositiories/xdl-portfolio\"\n",
    "sys.path.append(REPO_ROOT)"
   ]
  },
  {
   "cell_type": "code",
   "execution_count": null,
   "id": "da7cbb96",
   "metadata": {},
   "outputs": [],
   "source": [
    "from config import config, config_indicators\n",
    "from preprocessor.findata_downloader import FinancialDataDownloader\n",
    "from preprocessor.findata_preprocessor import FinancialDataPreprocessor\n",
    "from visualiser.findata_visualiser import FinancialDataVisualiser"
   ]
  },
  {
   "cell_type": "code",
   "execution_count": null,
   "id": "3b85d3d5",
   "metadata": {},
   "outputs": [],
   "source": [
    "data_dir = f\"{REPO_ROOT}/{config.DATA_DIR}/{config.DATASET_NAME}\"\n",
    "plot_dir = (\n",
    "    f\"{REPO_ROOT}/{config.PLOT_DIR}/{config.TICKERS_NAME}/{config.DATASET_NAME}\"\n",
    ")\n",
    "\n",
    "if not os.path.exists(plot_dir):\n",
    "    os.makedirs(plot_dir)"
   ]
  },
  {
   "cell_type": "code",
   "execution_count": null,
   "id": "ea3a35cd",
   "metadata": {},
   "outputs": [],
   "source": [
    "findownloader = FinancialDataDownloader(\n",
    "    start_date=config.START_DATE,\n",
    "    end_date=config.END_DATE,\n",
    ")\n",
    "data = findownloader.load_data(\n",
    "    directory=data_dir,\n",
    "    filename=config.TICKERS_NAME,\n",
    ")"
   ]
  },
  {
   "cell_type": "code",
   "execution_count": null,
   "id": "7d3dd408",
   "metadata": {},
   "outputs": [],
   "source": [
    "finpreprocessor = FinancialDataPreprocessor(\n",
    "    start_date=config.START_DATE,\n",
    "    end_date=config.END_DATE,\n",
    ")\n",
    "data = finpreprocessor.preprocess(\n",
    "    data=data,\n",
    "    exchange=config.EXCHANGE,\n",
    "    use_tech_indicators=config.USE_TECHNICAL_INDICATORS,\n",
    "    tech_indicators=list(config_indicators.TECHNICAL_INDICATORS.keys()),\n",
    "    use_macro_indicators=config.USE_MACROECONOMIC_INDICATORS,\n",
    "    macro_indicators=list(config.MACROECONOMIC_INDICATORS.keys()),\n",
    "    use_covariance=config.USE_COVARIANCE_FEATURES,\n",
    ")"
   ]
  },
  {
   "cell_type": "code",
   "execution_count": null,
   "id": "20e5d1a5",
   "metadata": {},
   "outputs": [],
   "source": [
    "finvisualiser = FinancialDataVisualiser(directory=plot_dir)\n",
    "finvisualiser.plot_close_prices(\n",
    "    data=data,\n",
    "    filename=\"processed_close_prices\",\n",
    ")"
   ]
  },
  {
   "cell_type": "code",
   "execution_count": null,
   "id": "22174222",
   "metadata": {},
   "outputs": [],
   "source": [
    "if config.USE_TECHNICAL_INDICATORS:\n",
    "    finvisualiser.plot_technical_indicators(\n",
    "        data=data,\n",
    "        indicators=config_indicators.TECHNICAL_INDICATORS,\n",
    "    )"
   ]
  },
  {
   "cell_type": "code",
   "execution_count": null,
   "id": "9e3d2365",
   "metadata": {},
   "outputs": [],
   "source": [
    "if config.USE_MACROECONOMIC_INDICATORS:\n",
    "    finvisualiser.plot_macroeconomic_indicators(\n",
    "        data=data,\n",
    "        indicators=config.MACROECONOMIC_INDICATORS,\n",
    "    )"
   ]
  },
  {
   "cell_type": "code",
   "execution_count": null,
   "id": "fce7e03f",
   "metadata": {},
   "outputs": [],
   "source": [
    "train_data, test_data = finpreprocessor.split_train_test(\n",
    "    data=data,\n",
    "    test_start_date=config.TEST_START_DATE,\n",
    ")"
   ]
  },
  {
   "cell_type": "code",
   "execution_count": null,
   "id": "27c82f97",
   "metadata": {},
   "outputs": [],
   "source": [
    "finvisualiser.plot_train_test_close_prices(\n",
    "    train_data=train_data,\n",
    "    test_data=test_data,\n",
    ")"
   ]
  },
  {
   "cell_type": "code",
   "execution_count": null,
   "id": "6be7ac13",
   "metadata": {},
   "outputs": [],
   "source": [
    "finpreprocessor.save_train_test_data(\n",
    "    train_data=train_data,\n",
    "    test_data=test_data,\n",
    "    directory=data_dir,\n",
    "    filename=config.TICKERS_NAME,\n",
    ")"
   ]
  },
  {
   "cell_type": "code",
   "execution_count": null,
   "id": "86c12c1a",
   "metadata": {},
   "outputs": [],
   "source": []
  }
 ],
 "metadata": {
  "kernelspec": {
   "display_name": ".venv",
   "language": "python",
   "name": "python3"
  },
  "language_info": {
   "codemirror_mode": {
    "name": "ipython",
    "version": 3
   },
   "file_extension": ".py",
   "mimetype": "text/x-python",
   "name": "python",
   "nbconvert_exporter": "python",
   "pygments_lexer": "ipython3",
   "version": "3.12.11"
  }
 },
 "nbformat": 4,
 "nbformat_minor": 5
}
