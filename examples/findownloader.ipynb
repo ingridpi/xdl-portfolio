{
 "cells": [
  {
   "cell_type": "markdown",
   "id": "c7130164",
   "metadata": {},
   "source": [
    "# Financial Data Downloader example\n"
   ]
  },
  {
   "cell_type": "code",
   "execution_count": null,
   "id": "93109692",
   "metadata": {},
   "outputs": [],
   "source": [
    "import os\n",
    "import sys"
   ]
  },
  {
   "cell_type": "code",
   "execution_count": null,
   "id": "122ba5c0",
   "metadata": {},
   "outputs": [],
   "source": [
    "REPO_ROOT = \"/Users/ingridperez/Documents/GitHub Repositiories/xdl-portfolio\"\n",
    "sys.path.append(REPO_ROOT)"
   ]
  },
  {
   "cell_type": "code",
   "execution_count": null,
   "id": "a3ea6aeb",
   "metadata": {},
   "outputs": [],
   "source": [
    "from config import config\n",
    "from preprocessor.findata_downloader import FinancialDataDownloader\n",
    "from visualiser.findata_visualiser import FinancialDataVisualiser"
   ]
  },
  {
   "cell_type": "code",
   "execution_count": null,
   "id": "9c08a44a",
   "metadata": {},
   "outputs": [],
   "source": [
    "data_dir = f\"{REPO_ROOT}/{config.DATA_DIR}/{config.DATASET_NAME}\"\n",
    "plot_dir = (\n",
    "    f\"{REPO_ROOT}/{config.PLOT_DIR}/{config.TICKERS_NAME}/{config.DATASET_NAME}\"\n",
    ")\n",
    "\n",
    "if not os.path.exists(data_dir):\n",
    "    os.makedirs(data_dir)\n",
    "\n",
    "if not os.path.exists(plot_dir):\n",
    "    os.makedirs(plot_dir)"
   ]
  },
  {
   "cell_type": "code",
   "execution_count": null,
   "id": "f7f19087",
   "metadata": {},
   "outputs": [],
   "source": [
    "findownloader = FinancialDataDownloader(\n",
    "    start_date=config.START_DATE,\n",
    "    end_date=config.END_DATE,\n",
    ")"
   ]
  },
  {
   "cell_type": "code",
   "execution_count": null,
   "id": "e614f6d7",
   "metadata": {},
   "outputs": [],
   "source": [
    "data = findownloader.download_data(tickers=config.TICKERS)"
   ]
  },
  {
   "cell_type": "code",
   "execution_count": null,
   "id": "11c48159",
   "metadata": {},
   "outputs": [],
   "source": [
    "data"
   ]
  },
  {
   "cell_type": "code",
   "execution_count": null,
   "id": "c5ce4db0",
   "metadata": {},
   "outputs": [],
   "source": [
    "findownloader.save_data(\n",
    "    directory=data_dir,\n",
    "    filename=config.TICKERS_NAME,\n",
    ")"
   ]
  },
  {
   "cell_type": "code",
   "execution_count": null,
   "id": "e3b5c391",
   "metadata": {},
   "outputs": [],
   "source": [
    "finvisualiser = FinancialDataVisualiser(directory=plot_dir)\n",
    "finvisualiser.plot_close_prices(data=data)"
   ]
  },
  {
   "cell_type": "code",
   "execution_count": null,
   "id": "5236c0db",
   "metadata": {},
   "outputs": [],
   "source": []
  }
 ],
 "metadata": {
  "kernelspec": {
   "display_name": ".venv",
   "language": "python",
   "name": "python3"
  },
  "language_info": {
   "codemirror_mode": {
    "name": "ipython",
    "version": 3
   },
   "file_extension": ".py",
   "mimetype": "text/x-python",
   "name": "python",
   "nbconvert_exporter": "python",
   "pygments_lexer": "ipython3",
   "version": "3.12.11"
  }
 },
 "nbformat": 4,
 "nbformat_minor": 5
}
